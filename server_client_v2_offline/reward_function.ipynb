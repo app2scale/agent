{
 "cells": [
  {
   "cell_type": "code",
   "execution_count": 15,
   "metadata": {},
   "outputs": [],
   "source": [
    "import pandas as pd\n",
    "import numpy as np\n",
    "import math\n",
    "\n",
    "ALPHA = 0.6\n",
    "eps = 1e-4\n",
    "data = pd.read_csv(\"./output_offline_data.csv\")\n",
    "\n"
   ]
  },
  {
   "cell_type": "code",
   "execution_count": null,
   "metadata": {},
   "outputs": [],
   "source": [
    "data[\"utilization\"] = 0.5*np.minimum(data[\"cpu_usage\"]/(data[\"cpu\"]/10),1)+ 0.5*np.minimum(data[\"memory_usage\"]/(data[\"heap\"]/10),1)\n",
    "\n",
    "\n",
    "data[\"performance\"] = (1-np.exp(-data[\"utilization\"]*(1-(data[\"response_time\"])/(60))))/(1-data[\"utilization\"]+eps)\n",
    "\n",
    "for i in range(0, data.shape[0]):\n",
    "    temp = data.iloc[i,:]\n",
    "    if temp[\"response_time\"] >= 60:\n",
    "        data.iloc[i, data.columns.get_loc(\"reward\")] = max((1-np.exp(-0.8*(1-(temp[\"response_time\"])/(60))))/(1-0.8),-10)\n",
    "    else:\n",
    "        data.iloc[i, data.columns.get_loc(\"reward\")] = (1-np.exp(-0.8))/(1-0.8)"
   ]
  },
  {
   "cell_type": "code",
   "execution_count": 16,
   "metadata": {},
   "outputs": [],
   "source": [
    "data[\"utilization\"] = 0.5*np.minimum(data[\"cpu_usage\"]/(data[\"cpu\"]/10),1)+ 0.5*np.minimum(data[\"memory_usage\"]/(data[\"heap\"]/10),1)\n",
    "\n",
    "data[\"reward\"] = ALPHA*(1-(1/(1+np.exp(-0.5*(data[\"response_time\"]-60))))) + (1-ALPHA)*(1-(1/(1+np.exp(0.5*(data[\"utilization\"]-0.8)))))\n",
    "# data[\"reward\"] = 1/(1+np.exp(-data[\"reward\"]))"
   ]
  },
  {
   "cell_type": "code",
   "execution_count": 17,
   "metadata": {},
   "outputs": [],
   "source": [
    "data.to_csv(\"resp_reward_data.csv\", index=False)"
   ]
  }
 ],
 "metadata": {
  "kernelspec": {
   "display_name": "rl_lib",
   "language": "python",
   "name": "python3"
  },
  "language_info": {
   "codemirror_mode": {
    "name": "ipython",
    "version": 3
   },
   "file_extension": ".py",
   "mimetype": "text/x-python",
   "name": "python",
   "nbconvert_exporter": "python",
   "pygments_lexer": "ipython3",
   "version": "3.9.16"
  }
 },
 "nbformat": 4,
 "nbformat_minor": 2
}
