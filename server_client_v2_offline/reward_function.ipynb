{
 "cells": [
  {
   "cell_type": "code",
   "execution_count": 1,
   "metadata": {},
   "outputs": [],
   "source": [
    "import pandas as pd\n",
    "import numpy as np\n",
    "import math\n",
    "\n",
    "ALPHA = 0.6\n",
    "eps = 1e-4\n",
    "full_data_1 = pd.read_csv(\"/Users/hasan.nayir/Projects/Payten/app2scale_reinforcement_learning/server_client_v2/output_new_1.csv\")\n",
    "full_data_2 = pd.read_csv(\"/Users/hasan.nayir/Projects/Payten/app2scale_reinforcement_learning/server_client_v2/output_new_1_test_deployment.csv\")\n",
    "data = pd.concat([full_data_1, full_data_2]).reset_index()"
   ]
  },
  {
   "cell_type": "code",
   "execution_count": 6,
   "metadata": {},
   "outputs": [],
   "source": [
    "data[\"utilization\"] = 0.5*np.minimum(data[\"cpu_usage\"]/(data[\"cpu\"]/10),1)+ 0.5*np.minimum(data[\"memory_usage\"]/(data[\"heap\"]/10),1)\n",
    "# data[\"performance\"] = (1-np.exp(-data[\"utilization\"]*(1-(data[\"response_time\"])/(60))))/(1-data[\"utilization\"]+eps)\n",
    "data[\"performance\"] = (1/data[\"response_time\"])/40\n",
    "data[\"performance\"] = (data[\"performance\"]-data[\"performance\"].min())/(data[\"performance\"].max()-data[\"performance\"].min())\n",
    "data[\"reward\"] = data[\"performance\"] * ALPHA + data[\"utilization\"] * (1-ALPHA)\n",
    "\n",
    "# for i in range(0, data.shape[0]):\n",
    "#     temp = data.iloc[i,:]\n",
    "#     if temp[\"response_time\"] >= 60:\n",
    "#         data.iloc[i, data.columns.get_loc(\"reward\")] = max((1-np.exp(-0.8*(1-(temp[\"response_time\"])/(60))))/(1-0.8),-10)\n",
    "#     else:\n",
    "#         data.iloc[i, data.columns.get_loc(\"reward\")] = (1-np.exp(-0.8))/(1-0.8)\n",
    "\n",
    "\n",
    "\n",
    "# exp hesap olsa da 0 ile 1 arasına düşürmek lazım\n",
    "# exp olmasına gerek yok."
   ]
  },
  {
   "cell_type": "code",
   "execution_count": 7,
   "metadata": {},
   "outputs": [],
   "source": [
    "data.to_csv(\"response_time_new_data.csv\", index=False)"
   ]
  },
  {
   "cell_type": "code",
   "execution_count": 16,
   "metadata": {},
   "outputs": [],
   "source": [
    "data[\"utilization\"] = 0.5*np.minimum(data[\"cpu_usage\"]/(data[\"cpu\"]/10),1)+ 0.5*np.minimum(data[\"memory_usage\"]/(data[\"heap\"]/10),1)\n",
    "\n",
    "data[\"reward\"] = ALPHA*(1-(1/(1+np.exp(-0.5*(data[\"response_time\"]-60))))) + (1-ALPHA)*(1-(1/(1+np.exp(0.5*(data[\"utilization\"]-0.8)))))\n",
    "# data[\"reward\"] = 1/(1+np.exp(-data[\"reward\"]))"
   ]
  },
  {
   "cell_type": "code",
   "execution_count": 17,
   "metadata": {},
   "outputs": [],
   "source": [
    "data.to_csv(\"resp_reward_data.csv\", index=False)"
   ]
  },
  {
   "cell_type": "code",
   "execution_count": 40,
   "metadata": {},
   "outputs": [],
   "source": [
    "## This will consider action cost\n",
    "# performance > cost\n",
    "# cpu > replica\n",
    "cost_per_replica = 0.4\n",
    "cost_per_heap = 0.4\n",
    "cost_per_cpu = 0.2\n",
    "action_cost_list = []\n",
    "\n",
    "for i in range(0, data.shape[0]):\n",
    "    temp_instant = data.iloc[i,:]\n",
    "    \n",
    "    if i>0:\n",
    "        temp_previous = data.iloc[i-1,:]\n",
    "        replica_difference = abs(temp_previous[\"replica\"] - temp_instant[\"replica\"])/(data[\"replica\"].max()-data[\"replica\"].min())\n",
    "        cpu_limit_difference = abs(temp_previous[\"cpu\"] - temp_instant[\"cpu\"])/(data[\"cpu\"].max()-data[\"cpu\"].min())\n",
    "        heap_limit_difference = abs(temp_previous[\"heap\"] - temp_instant[\"heap\"])/(data[\"heap\"].max()-data[\"heap\"].min())\n",
    "\n",
    "        replica_cost = replica_difference * cost_per_replica\n",
    "        cpu_limit_cost = cpu_limit_difference * cost_per_cpu\n",
    "        heap_limit_cost = heap_limit_difference * cost_per_heap\n",
    "\n",
    "    else:\n",
    "        replica_cost = 0\n",
    "        cpu_limit_cost = 0\n",
    "        heap_limit_cost = 0\n",
    "    \n",
    "\n",
    "    action_cost_list.append(replica_cost+cpu_limit_cost+heap_limit_cost)\n",
    "\n",
    "data[\"action_cost\"] = action_cost_list\n",
    "data[\"utilization\"] = 0.5*np.minimum(data[\"cpu_usage\"]/(data[\"cpu\"]/10),1)+ 0.5*np.minimum(data[\"memory_usage\"]/(data[\"heap\"]/10),1)\n",
    "data[\"performance\"] = data[\"num_request\"]/data[\"expected_tps\"]\n",
    "\n",
    "performance_weight = 0.5\n",
    "utilization_weight = 0.3\n",
    "action_cost_weight = 0.2\n",
    "\n",
    "data[\"reward\"] = data[\"performance\"] * performance_weight + data[\"utilization\"] * utilization_weight - data[\"action_cost\"] * action_cost_weight\n",
    "\n",
    "\n"
   ]
  },
  {
   "cell_type": "code",
   "execution_count": 36,
   "metadata": {},
   "outputs": [],
   "source": [
    "data.to_csv(\"action_reward_data.csv\", index=False)"
   ]
  }
 ],
 "metadata": {
  "kernelspec": {
   "display_name": "rl_lib",
   "language": "python",
   "name": "python3"
  },
  "language_info": {
   "codemirror_mode": {
    "name": "ipython",
    "version": 3
   },
   "file_extension": ".py",
   "mimetype": "text/x-python",
   "name": "python",
   "nbconvert_exporter": "python",
   "pygments_lexer": "ipython3",
   "version": "3.9.16"
  }
 },
 "nbformat": 4,
 "nbformat_minor": 2
}
