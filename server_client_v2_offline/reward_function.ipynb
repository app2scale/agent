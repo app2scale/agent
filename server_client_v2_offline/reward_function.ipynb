{
 "cells": [
  {
   "cell_type": "code",
   "execution_count": 38,
   "metadata": {},
   "outputs": [],
   "source": [
    "import pandas as pd\n",
    "import numpy as np\n",
    "import math\n",
    "\n",
    "ALPHA = 0.6\n",
    "eps = 1e-4\n",
    "data = pd.read_csv(\"./output_offline_data.csv\")\n",
    "\n"
   ]
  },
  {
   "cell_type": "code",
   "execution_count": 39,
   "metadata": {},
   "outputs": [],
   "source": [
    "data[\"utilization\"] = 0.5*np.minimum(data[\"cpu_usage\"]/(data[\"cpu\"]/10),1)+ 0.5*np.minimum(data[\"memory_usage\"]/(data[\"heap\"]/10),1)\n",
    "\n",
    "\n",
    "data[\"performance\"] = (1-np.exp(-data[\"utilization\"]*(1-(data[\"response_time\"])/(60))))/(1-data[\"utilization\"]+eps)\n",
    "\n",
    "for i in range(0, data.shape[0]):\n",
    "    temp = data.iloc[i,:]\n",
    "    if temp[\"response_time\"] >= 60:\n",
    "        data.iloc[i, data.columns.get_loc(\"reward\")] = max((1-np.exp(-0.8*(1-(temp[\"response_time\"])/(60))))/(1-0.8),-10)\n",
    "    else:\n",
    "        data.iloc[i, data.columns.get_loc(\"reward\")] = (1-np.exp(-0.8))/(1-0.8)\n",
    "# exp hesap olsa da 0 ile 1 arasına düşürmek lazım\n",
    "# exp olmasına gerek yok."
   ]
  },
  {
   "cell_type": "code",
   "execution_count": 16,
   "metadata": {},
   "outputs": [],
   "source": [
    "data[\"utilization\"] = 0.5*np.minimum(data[\"cpu_usage\"]/(data[\"cpu\"]/10),1)+ 0.5*np.minimum(data[\"memory_usage\"]/(data[\"heap\"]/10),1)\n",
    "\n",
    "data[\"reward\"] = ALPHA*(1-(1/(1+np.exp(-0.5*(data[\"response_time\"]-60))))) + (1-ALPHA)*(1-(1/(1+np.exp(0.5*(data[\"utilization\"]-0.8)))))\n",
    "# data[\"reward\"] = 1/(1+np.exp(-data[\"reward\"]))"
   ]
  },
  {
   "cell_type": "code",
   "execution_count": 17,
   "metadata": {},
   "outputs": [],
   "source": [
    "data.to_csv(\"resp_reward_data.csv\", index=False)"
   ]
  },
  {
   "cell_type": "code",
   "execution_count": 40,
   "metadata": {},
   "outputs": [],
   "source": [
    "## This will consider action cost\n",
    "# performance > cost\n",
    "# cpu > replica\n",
    "cost_per_replica = 0.4\n",
    "cost_per_heap = 0.4\n",
    "cost_per_cpu = 0.2\n",
    "action_cost_list = []\n",
    "\n",
    "for i in range(0, data.shape[0]):\n",
    "    temp_instant = data.iloc[i,:]\n",
    "    \n",
    "    if i>0:\n",
    "        temp_previous = data.iloc[i-1,:]\n",
    "        replica_difference = abs(temp_previous[\"replica\"] - temp_instant[\"replica\"])/(data[\"replica\"].max()-data[\"replica\"].min())\n",
    "        cpu_limit_difference = abs(temp_previous[\"cpu\"] - temp_instant[\"cpu\"])/(data[\"cpu\"].max()-data[\"cpu\"].min())\n",
    "        heap_limit_difference = abs(temp_previous[\"heap\"] - temp_instant[\"heap\"])/(data[\"heap\"].max()-data[\"heap\"].min())\n",
    "\n",
    "        replica_cost = replica_difference * cost_per_replica\n",
    "        cpu_limit_cost = cpu_limit_difference * cost_per_cpu\n",
    "        heap_limit_cost = heap_limit_difference * cost_per_heap\n",
    "\n",
    "    else:\n",
    "        replica_cost = 0\n",
    "        cpu_limit_cost = 0\n",
    "        heap_limit_cost = 0\n",
    "    \n",
    "\n",
    "    action_cost_list.append(replica_cost+cpu_limit_cost+heap_limit_cost)\n",
    "\n",
    "data[\"action_cost\"] = action_cost_list\n",
    "data[\"utilization\"] = 0.5*np.minimum(data[\"cpu_usage\"]/(data[\"cpu\"]/10),1)+ 0.5*np.minimum(data[\"memory_usage\"]/(data[\"heap\"]/10),1)\n",
    "data[\"performance\"] = data[\"num_request\"]/data[\"expected_tps\"]\n",
    "\n",
    "performance_weight = 0.5\n",
    "utilization_weight = 0.3\n",
    "action_cost_weight = 0.2\n",
    "\n",
    "data[\"reward\"] = data[\"performance\"] * performance_weight + data[\"utilization\"] * utilization_weight - data[\"action_cost\"] * action_cost_weight\n",
    "\n",
    "\n"
   ]
  },
  {
   "cell_type": "code",
   "execution_count": 36,
   "metadata": {},
   "outputs": [],
   "source": [
    "data.to_csv(\"action_reward_data.csv\", index=False)"
   ]
  },
  {
   "cell_type": "code",
   "execution_count": 37,
   "metadata": {},
   "outputs": [
    {
     "data": {
      "text/html": [
       "<div>\n",
       "<style scoped>\n",
       "    .dataframe tbody tr th:only-of-type {\n",
       "        vertical-align: middle;\n",
       "    }\n",
       "\n",
       "    .dataframe tbody tr th {\n",
       "        vertical-align: top;\n",
       "    }\n",
       "\n",
       "    .dataframe thead th {\n",
       "        text-align: right;\n",
       "    }\n",
       "</style>\n",
       "<table border=\"1\" class=\"dataframe\">\n",
       "  <thead>\n",
       "    <tr style=\"text-align: right;\">\n",
       "      <th></th>\n",
       "      <th>date</th>\n",
       "      <th>transactions</th>\n",
       "    </tr>\n",
       "  </thead>\n",
       "  <tbody>\n",
       "    <tr>\n",
       "      <th>0</th>\n",
       "      <td>2015-10-01</td>\n",
       "      <td>4.004739</td>\n",
       "    </tr>\n",
       "    <tr>\n",
       "      <th>1</th>\n",
       "      <td>2015-10-02</td>\n",
       "      <td>4.139078</td>\n",
       "    </tr>\n",
       "    <tr>\n",
       "      <th>2</th>\n",
       "      <td>2015-10-03</td>\n",
       "      <td>2.540515</td>\n",
       "    </tr>\n",
       "    <tr>\n",
       "      <th>3</th>\n",
       "      <td>2015-10-04</td>\n",
       "      <td>2.265059</td>\n",
       "    </tr>\n",
       "    <tr>\n",
       "      <th>4</th>\n",
       "      <td>2015-10-05</td>\n",
       "      <td>4.001959</td>\n",
       "    </tr>\n",
       "    <tr>\n",
       "      <th>...</th>\n",
       "      <td>...</td>\n",
       "      <td>...</td>\n",
       "    </tr>\n",
       "    <tr>\n",
       "      <th>2095</th>\n",
       "      <td>2021-06-26</td>\n",
       "      <td>14.164040</td>\n",
       "    </tr>\n",
       "    <tr>\n",
       "      <th>2096</th>\n",
       "      <td>2021-06-27</td>\n",
       "      <td>13.970655</td>\n",
       "    </tr>\n",
       "    <tr>\n",
       "      <th>2097</th>\n",
       "      <td>2021-06-28</td>\n",
       "      <td>16.663407</td>\n",
       "    </tr>\n",
       "    <tr>\n",
       "      <th>2098</th>\n",
       "      <td>2021-06-29</td>\n",
       "      <td>16.441971</td>\n",
       "    </tr>\n",
       "    <tr>\n",
       "      <th>2099</th>\n",
       "      <td>2021-06-30</td>\n",
       "      <td>17.393023</td>\n",
       "    </tr>\n",
       "  </tbody>\n",
       "</table>\n",
       "<p>2100 rows × 2 columns</p>\n",
       "</div>"
      ],
      "text/plain": [
       "            date  transactions\n",
       "0     2015-10-01      4.004739\n",
       "1     2015-10-02      4.139078\n",
       "2     2015-10-03      2.540515\n",
       "3     2015-10-04      2.265059\n",
       "4     2015-10-05      4.001959\n",
       "...          ...           ...\n",
       "2095  2021-06-26     14.164040\n",
       "2096  2021-06-27     13.970655\n",
       "2097  2021-06-28     16.663407\n",
       "2098  2021-06-29     16.441971\n",
       "2099  2021-06-30     17.393023\n",
       "\n",
       "[2100 rows x 2 columns]"
      ]
     },
     "execution_count": 37,
     "metadata": {},
     "output_type": "execute_result"
    }
   ],
   "source": [
    "pd.read_csv(\"./transactions.csv\")"
   ]
  }
 ],
 "metadata": {
  "kernelspec": {
   "display_name": "rl_lib",
   "language": "python",
   "name": "python3"
  },
  "language_info": {
   "codemirror_mode": {
    "name": "ipython",
    "version": 3
   },
   "file_extension": ".py",
   "mimetype": "text/x-python",
   "name": "python",
   "nbconvert_exporter": "python",
   "pygments_lexer": "ipython3",
   "version": "3.9.16"
  }
 },
 "nbformat": 4,
 "nbformat_minor": 2
}
