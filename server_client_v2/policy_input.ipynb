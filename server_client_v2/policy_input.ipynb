{
 "cells": [
  {
   "cell_type": "code",
   "execution_count": 1,
   "metadata": {},
   "outputs": [
    {
     "name": "stderr",
     "output_type": "stream",
     "text": [
      "/Users/hasan.nayir/miniconda3/envs/rl_lib/lib/python3.9/site-packages/tqdm/auto.py:21: TqdmWarning: IProgress not found. Please update jupyter and ipywidgets. See https://ipywidgets.readthedocs.io/en/stable/user_install.html\n",
      "  from .autonotebook import tqdm as notebook_tqdm\n"
     ]
    }
   ],
   "source": [
    "import numpy as np\n",
    "from ray.rllib.utils.numpy import one_hot\n",
    "\n",
    "\n",
    "\n",
    "obs = {'replica': 5, 'cpu': 5, 'heap': 9, 'previous_tps': np.array([45.53]), 'instant_tps': np.array([46.44])}\n",
    "\n"
   ]
  },
  {
   "cell_type": "code",
   "execution_count": 4,
   "metadata": {},
   "outputs": [],
   "source": [
    "from gymnasium.spaces import Discrete, Box\n",
    "from ray.rllib.utils.torch_utils import flatten_inputs_to_1d_tensor\n",
    "import torch\n",
    "import tree\n",
    "\n",
    "\n",
    "obs = {'replica': np.array([5]), 'cpu': np.array([8]), \"heap\": np.array([2]), 'previous_tps': np.array([45.53]), 'instant_tps': np.array([46.44])}\n",
    "\n",
    "struct_torch = tree.map_structure(lambda s: torch.from_numpy(s), obs)\n",
    "spaces = dict(\n",
    "    {\n",
    "        \"replica\": Discrete(6, start=1),\n",
    "        \"cpu\": Discrete(9, start=4),\n",
    "        \"heap\": Discrete(9, start=4),\n",
    "        \"previous_tps\":Box(0, 200, dtype=np.float16),\n",
    "        \"instant_tps\":Box(0, 200, dtype=np.float16)\n",
    "    }\n",
    ")\n",
    "model_input = flatten_inputs_to_1d_tensor(struct_torch, spaces_struct=spaces)"
   ]
  },
  {
   "cell_type": "code",
   "execution_count": 3,
   "metadata": {},
   "outputs": [
    {
     "data": {
      "text/plain": [
       "26"
      ]
     },
     "execution_count": 3,
     "metadata": {},
     "output_type": "execute_result"
    }
   ],
   "source": [
    "model_input.size(dim=1)"
   ]
  }
 ],
 "metadata": {
  "kernelspec": {
   "display_name": "rl_lib",
   "language": "python",
   "name": "python3"
  },
  "language_info": {
   "codemirror_mode": {
    "name": "ipython",
    "version": 3
   },
   "file_extension": ".py",
   "mimetype": "text/x-python",
   "name": "python",
   "nbconvert_exporter": "python",
   "pygments_lexer": "ipython3",
   "version": "3.9.16"
  }
 },
 "nbformat": 4,
 "nbformat_minor": 2
}
