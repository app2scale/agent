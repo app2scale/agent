{
 "cells": [
  {
   "cell_type": "code",
   "execution_count": 1,
   "metadata": {},
   "outputs": [],
   "source": [
    "import pandas as pd\n",
    "\n",
    "\n",
    "data_files = [\"output_v5_1.csv\", \"output_v5_2.csv\"]\n",
    "state_history_files = [\"state_history_v5_1.csv\", \"state_history_v5_2.csv\"]\n",
    "\n",
    "\n",
    "output_df = pd.concat([pd.read_csv(file) for file in data_files], ignore_index=True)\n",
    "state_df = pd.concat([pd.read_csv(file) for file in state_history_files], ignore_index=True)\n",
    "\n",
    "state_df[\"cpu_usage\"] = output_df[\"cpu_usage\"]\n",
    "state_df[\"memory_usage\"] = output_df[\"memory_usage\"]\n",
    "state_df[\"num_request\"] = output_df[\"num_request\"]\n",
    "state_df[\"expected_tps\"] = output_df[\"expected_tps\"]\n",
    "\n",
    "output_df.reset_index(drop=True, inplace=True)\n",
    "state_df.reset_index(drop=True, inplace=True)\n",
    "state_df = state_df.loc[:12986]"
   ]
  },
  {
   "cell_type": "code",
   "execution_count": 2,
   "metadata": {},
   "outputs": [],
   "source": [
    "# Delete empty rows\n",
    "empty_col_name=[\"cpu_usage\"]\n",
    "data = state_df.dropna(subset=empty_col_name)"
   ]
  },
  {
   "cell_type": "code",
   "execution_count": 3,
   "metadata": {},
   "outputs": [],
   "source": [
    "data.to_csv(\"output_v5_offline_data.csv\", index=False)"
   ]
  }
 ],
 "metadata": {
  "kernelspec": {
   "display_name": "rl_lib",
   "language": "python",
   "name": "python3"
  },
  "language_info": {
   "codemirror_mode": {
    "name": "ipython",
    "version": 3
   },
   "file_extension": ".py",
   "mimetype": "text/x-python",
   "name": "python",
   "nbconvert_exporter": "python",
   "pygments_lexer": "ipython3",
   "version": "3.9.16"
  }
 },
 "nbformat": 4,
 "nbformat_minor": 2
}
