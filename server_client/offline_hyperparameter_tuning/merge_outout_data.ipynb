{
 "cells": [
  {
   "cell_type": "code",
   "execution_count": 1,
   "metadata": {},
   "outputs": [],
   "source": [
    "import pandas as pd\n",
    "\n",
    "\n",
    "data_files = [\"../output_2.csv\", \"../output_3.csv\", \"../output_4.csv\"]\n",
    "state_history_files = [\"../state_history_2.csv\", \"../state_history_3.csv\", \"../state_history_4.csv\"]\n",
    "\n",
    "\n",
    "output_df = pd.concat([pd.read_csv(file) for file in data_files], ignore_index=True)\n",
    "state_df = pd.concat([pd.read_csv(file) for file in state_history_files], ignore_index=True)\n",
    "\n",
    "\n",
    "output_df.columns = [\"replica\", \"cpu\", \"heap\", \"previous_tps\", \"instant_tps\", \"reward\"]\n",
    "\n",
    "state_df[\"reward\"] = output_df[\"reward\"]\n",
    "\n",
    "output_df.reset_index(drop=True, inplace=True)\n",
    "state_df.reset_index(drop=True, inplace=True)\n",
    "\n",
    "\n"
   ]
  },
  {
   "cell_type": "code",
   "execution_count": 2,
   "metadata": {},
   "outputs": [],
   "source": [
    "state_df.to_csv(\"data/offline_data.csv\", index=False)"
   ]
  }
 ],
 "metadata": {
  "kernelspec": {
   "display_name": "rl_lib",
   "language": "python",
   "name": "python3"
  },
  "language_info": {
   "codemirror_mode": {
    "name": "ipython",
    "version": 3
   },
   "file_extension": ".py",
   "mimetype": "text/x-python",
   "name": "python",
   "nbconvert_exporter": "python",
   "pygments_lexer": "ipython3",
   "version": "3.9.16"
  }
 },
 "nbformat": 4,
 "nbformat_minor": 2
}
