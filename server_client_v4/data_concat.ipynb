{
 "cells": [
  {
   "cell_type": "code",
   "execution_count": 1,
   "metadata": {},
   "outputs": [],
   "source": [
    "import pandas as pd\n",
    "\n",
    "\n",
    "data_list = [\"output_300_1.csv\", \"output_300_2.csv\", \"output_300_3.csv\", \"output_browse_300_data_1.csv\", \"output_browse_300_data_2.csv\"]\n",
    "data_file_list = []\n",
    "\n",
    "for file in data_list:\n",
    "    data = pd.read_csv(file)\n",
    "    data_file_list.append(data)\n",
    "\n",
    "df = pd.concat(data_file_list).reset_index(drop=True)\n",
    "df.to_csv(\"data.csv\", index=False)"
   ]
  }
 ],
 "metadata": {
  "kernelspec": {
   "display_name": "rl_lib",
   "language": "python",
   "name": "python3"
  },
  "language_info": {
   "codemirror_mode": {
    "name": "ipython",
    "version": 3
   },
   "file_extension": ".py",
   "mimetype": "text/x-python",
   "name": "python",
   "nbconvert_exporter": "python",
   "pygments_lexer": "ipython3",
   "version": "3.9.16"
  }
 },
 "nbformat": 4,
 "nbformat_minor": 2
}
