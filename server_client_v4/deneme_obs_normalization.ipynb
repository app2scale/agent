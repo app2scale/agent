{
 "cells": [
  {
   "cell_type": "code",
   "execution_count": 2,
   "metadata": {},
   "outputs": [
    {
     "name": "stderr",
     "output_type": "stream",
     "text": [
      "2024-02-27 16:46:02,120\tINFO policy.py:1285 -- Policy (worker=local) running on CPU.\n",
      "2024-02-27 16:46:02,121\tINFO torch_policy.py:184 -- Found 0 visible cuda devices.\n",
      "2024-02-27 16:46:02,129\tINFO util.py:118 -- Using connectors:\n",
      "2024-02-27 16:46:02,130\tINFO util.py:119 --     AgentConnectorPipeline\n",
      "        ObsPreprocessorConnector\n",
      "        StateBufferConnector\n",
      "        ViewRequirementAgentConnector\n",
      "2024-02-27 16:46:02,131\tINFO util.py:120 --     ActionConnectorPipeline\n",
      "        ConvertToNumpyConnector\n",
      "        NormalizeActionsConnector\n",
      "        ImmutableActionsConnector\n",
      "2024-02-27 16:46:02,131\tINFO rollout_worker.py:2000 -- Built policy map: <PolicyMap lru-caching-capacity=100 policy-IDs=['default_policy']>\n",
      "2024-02-27 16:46:02,132\tINFO rollout_worker.py:2001 -- Built preprocessor map: {'default_policy': None}\n",
      "2024-02-27 16:46:02,132\tINFO rollout_worker.py:761 -- Built filter map: defaultdict(<class 'ray.rllib.utils.filter.NoFilter'>, {})\n",
      "Install gputil for GPU system monitoring.\n",
      "2024-02-27 16:46:02,140\tWARNING checkpoints.py:109 -- No `rllib_checkpoint.json` file found in checkpoint directory /Users/hasan.nayir/ray_results/DQN_None_2024-02-27_16-08-46u3b9he5e/checkpoints/checkpoint_004000/.! Trying to extract checkpoint info from other files found in that dir.\n",
      "2024-02-27 16:46:06,398\tINFO worker.py:1625 -- Started a local Ray instance.\n",
      "2024-02-27 16:46:08,355\tINFO trainable.py:913 -- Restored on 127.0.0.1 from checkpoint: /Users/hasan.nayir/ray_results/DQN_None_2024-02-27_16-08-46u3b9he5e/checkpoints/checkpoint_004000\n",
      "2024-02-27 16:46:08,356\tINFO trainable.py:922 -- Current state after restoring: {'_iteration': 4000, '_timesteps_total': None, '_time_total': 1483.6781868934631, '_episodes_total': 0}\n"
     ]
    }
   ],
   "source": [
    "from gevent import monkey\n",
    "monkey.patch_all(thread=False, select=False)\n",
    "from locust.env import Environment\n",
    "from kubernetes import client, config\n",
    "\n",
    "from prometheus_api_client import PrometheusConnect\n",
    "\n",
    "from ray.rllib.env.policy_client import PolicyClient\n",
    "import pandas as pd\n",
    "import time\n",
    "import numpy as np\n",
    "from collections import OrderedDict\n",
    "from gymnasium.spaces import Discrete, Dict, MultiDiscrete, Tuple, Box\n",
    "from ray.rllib.algorithms.ppo import PPOConfig\n",
    "from ray.rllib.algorithms.dqn import DQNConfig\n",
    "\n",
    "import ssl\n",
    "import random\n",
    "import logging\n",
    "import ray\n",
    "from ray.rllib.algorithms.algorithm import Algorithm\n",
    "from ray.rllib.env.policy_server_input import PolicyServerInput\n",
    "from locust import HttpUser, task, constant, constant_throughput, events\n",
    "from locust.shape import LoadTestShape\n",
    "\n",
    "ssl._create_default_https_context = ssl._create_unverified_context\n",
    "from itertools import product\n",
    "import time\n",
    "\n",
    "\n",
    "DEPLOYMENT_NAME = \"teastore-webui\"\n",
    "NAMESPACE = \"app2scale-test\"\n",
    "\n",
    "OBSERVATION_SPACE =Box(low=np.array([1, 4, 4, 0, 0]), high=np.array([3, 9, 9, 500, 500]), dtype=np.float32)\n",
    "\n",
    "\"\"\"\n",
    "    # replica : 1,2,3,4,5,6 -> 0,1,2,3,4,5 + 1\n",
    "    # cpu : 4,5,6,7,8,9 -> 0,1,2,3,4,5   +   4\n",
    "    # heap : 4,5,6,7,8,9 -> 0,1,2,3,4,5   +   4\n",
    "\"\"\"\n",
    "\n",
    "ACTION_SPACE = Discrete(108) # index of the possible states\n",
    "replica = [1, 2, 3]\n",
    "cpu = [4, 5, 6, 7, 8, 9]\n",
    "heap = [4, 5, 6, 7, 8, 9]\n",
    "\n",
    "config_dqn = (DQNConfig()\n",
    "          .environment(\n",
    "              env=None,\n",
    "              action_space=ACTION_SPACE,\n",
    "              observation_space=OBSERVATION_SPACE)\n",
    "\n",
    "          .training(model={\"fcnet_hiddens\": [64,64]},\n",
    "              gamma=0.99,\n",
    "              lr=1e-05,\n",
    "              train_batch_size=256)\n",
    "\n",
    "          .debugging(log_level=\"INFO\")\n",
    "          .evaluation(off_policy_estimation_methods={})\n",
    "          \n",
    "          )\n",
    "\n",
    "\n",
    "config_dqn.rl_module(_enable_rl_module_api=False)\n",
    "config_dqn.training(_enable_learner_api=False)\n",
    "algo = config_dqn.build() \n",
    "\n",
    "\n",
    "path_to_checkpoint = \"/Users/hasan.nayir/ray_results/DQN_None_2024-02-27_16-08-46u3b9he5e/checkpoints/checkpoint_004000\"\n",
    "algo.restore(path_to_checkpoint)"
   ]
  },
  {
   "cell_type": "code",
   "execution_count": 11,
   "metadata": {},
   "outputs": [],
   "source": [
    "ACTION_SPACE = Discrete(108) # index of the possible states\n",
    "replica = [1, 2, 3]\n",
    "cpu = [4, 5, 6, 7, 8, 9]\n",
    "heap = [4, 5, 6, 7, 8, 9]\n",
    "\n",
    "POSSIBLE_STATES = np.array(list(product(replica, cpu, heap)))"
   ]
  },
  {
   "cell_type": "code",
   "execution_count": 5,
   "metadata": {},
   "outputs": [
    {
     "data": {
      "text/plain": [
       "array([  2.9428666,   5.5114183,   6.7960362, 483.2061   , 163.23544  ],\n",
       "      dtype=float32)"
      ]
     },
     "execution_count": 5,
     "metadata": {},
     "output_type": "execute_result"
    }
   ],
   "source": [
    "OBSERVATION_SPACE.sample()"
   ]
  },
  {
   "cell_type": "code",
   "execution_count": 24,
   "metadata": {},
   "outputs": [
    {
     "name": "stdout",
     "output_type": "stream",
     "text": [
      "(22, [], {'q_values': array([153.70984, 211.30504, 195.40848, 196.78154, 245.4486 , 148.25154,\n",
      "       155.30702, 175.69131, 241.31253, 240.56035, 262.9794 , 261.4909 ,\n",
      "       237.18048, 248.72517, 227.13641, 177.09846, 212.45862, 203.562  ,\n",
      "       216.98065, 261.0282 , 211.18938, 198.7151 , 263.53235, 245.68216,\n",
      "       210.74355, 248.59052, 243.39795, 143.99661, 262.9657 , 221.83119,\n",
      "       212.10228, 220.77121, 241.88437, 263.43744, 258.1985 , 233.82278,\n",
      "       262.9962 , 216.56909, 252.77289, 207.316  , 217.37224, 216.54128,\n",
      "       199.09703, 221.68907, 219.40297, 196.64442, 171.44589, 219.336  ,\n",
      "       178.22217, 160.07834, 152.3945 , 148.68039, 191.28673, 154.88808,\n",
      "       198.41615, 166.751  , 185.69702, 190.62845, 245.52345, 236.87395,\n",
      "       173.79813, 223.8711 , 256.3898 , 197.05498, 263.39334, 263.37585,\n",
      "       241.34451, 189.36383, 235.95355, 226.71202, 199.07773, 204.72194,\n",
      "       225.27208, 131.35904, 238.94843, 122.28483, 228.49704, 219.16463,\n",
      "       250.02069, 229.70522, 229.06937, 263.4226 , 226.44312, 200.96277,\n",
      "       230.55507, 214.71793, 128.20102, 219.82599, 226.41437, 150.968  ,\n",
      "       231.26999, 216.10269, 202.64229, 164.5791 , 262.92825, 227.76474,\n",
      "       263.02524, 159.65623, 218.09373, 262.79138, 243.82623, 229.05927,\n",
      "       125.83746, 148.5637 , 226.7506 , 143.4863 , 218.60995, 241.46698],\n",
      "      dtype=float32), 'action_dist_inputs': array([153.70984, 211.30504, 195.40848, 196.78154, 245.4486 , 148.25154,\n",
      "       155.30702, 175.69131, 241.31253, 240.56035, 262.9794 , 261.4909 ,\n",
      "       237.18048, 248.72517, 227.13641, 177.09846, 212.45862, 203.562  ,\n",
      "       216.98065, 261.0282 , 211.18938, 198.7151 , 263.53235, 245.68216,\n",
      "       210.74355, 248.59052, 243.39795, 143.99661, 262.9657 , 221.83119,\n",
      "       212.10228, 220.77121, 241.88437, 263.43744, 258.1985 , 233.82278,\n",
      "       262.9962 , 216.56909, 252.77289, 207.316  , 217.37224, 216.54128,\n",
      "       199.09703, 221.68907, 219.40297, 196.64442, 171.44589, 219.336  ,\n",
      "       178.22217, 160.07834, 152.3945 , 148.68039, 191.28673, 154.88808,\n",
      "       198.41615, 166.751  , 185.69702, 190.62845, 245.52345, 236.87395,\n",
      "       173.79813, 223.8711 , 256.3898 , 197.05498, 263.39334, 263.37585,\n",
      "       241.34451, 189.36383, 235.95355, 226.71202, 199.07773, 204.72194,\n",
      "       225.27208, 131.35904, 238.94843, 122.28483, 228.49704, 219.16463,\n",
      "       250.02069, 229.70522, 229.06937, 263.4226 , 226.44312, 200.96277,\n",
      "       230.55507, 214.71793, 128.20102, 219.82599, 226.41437, 150.968  ,\n",
      "       231.26999, 216.10269, 202.64229, 164.5791 , 262.92825, 227.76474,\n",
      "       263.02524, 159.65623, 218.09373, 262.79138, 243.82623, 229.05927,\n",
      "       125.83746, 148.5637 , 226.7506 , 143.4863 , 218.60995, 241.46698],\n",
      "      dtype=float32), 'action_prob': 1.0, 'action_logp': 0.0})\n",
      "[1 7 8]\n"
     ]
    }
   ],
   "source": [
    "test_step = 1\n",
    "for i in range(test_step):\n",
    "    obs = np.array([  3,   9,   9, 5000  , 0 ],dtype=np.float32)/np.array([3,9,9,168,168])\n",
    "    action = algo.compute_single_action(obs, full_fetch=True)\n",
    "    print(action)\n",
    "    print(POSSIBLE_STATES[action[0]])\n"
   ]
  },
  {
   "cell_type": "code",
   "execution_count": 20,
   "metadata": {},
   "outputs": [
    {
     "name": "stdout",
     "output_type": "stream",
     "text": [
      "97\n"
     ]
    },
    {
     "data": {
      "text/plain": [
       "[<matplotlib.lines.Line2D at 0x127ac5d00>]"
      ]
     },
     "execution_count": 20,
     "metadata": {},
     "output_type": "execute_result"
    },
    {
     "data": {
      "image/png": "[encoded data removed]",
      "text/plain": [
       "<Figure size 640x480 with 1 Axes>"
      ]
     },
     "metadata": {},
     "output_type": "display_data"
    }
   ],
   "source": [
    "import numpy as np\n",
    "import matplotlib.pyplot as plt\n",
    "t = np.linspace(0, 1, 97) \n",
    "\n",
    "sinus_dalga = 230 * np.sin(2 * np.pi * 1 * t) +250\n",
    "print(len(sinus_dalga))\n",
    "plt.plot(t, sinus_dalga/8)"
   ]
  },
  {
   "cell_type": "code",
   "execution_count": 19,
   "metadata": {},
   "outputs": [
    {
     "data": {
      "text/plain": [
       "array([250.        , 265.04271972, 280.02102421, 294.87077406,\n",
       "       309.52838037, 323.93107702, 338.01718944, 351.72639875,\n",
       "       365.        , 377.78115359, 390.01512867, 401.64953747,\n",
       "       412.63455967, 422.92315572, 432.47126827, 441.23801083,\n",
       "       449.18584287, 456.28073055, 462.49229248, 467.79392978,\n",
       "       472.16294005, 475.58061449, 478.03231812, 479.50755234,\n",
       "       480.        , 479.50755234, 478.03231812, 475.58061449,\n",
       "       472.16294005, 467.79392978, 462.49229248, 456.28073055,\n",
       "       449.18584287, 441.23801083, 432.47126827, 422.92315572,\n",
       "       412.63455967, 401.64953747, 390.01512867, 377.78115359,\n",
       "       365.        , 351.72639875, 338.01718944, 323.93107702,\n",
       "       309.52838037, 294.87077406, 280.02102421, 265.04271972,\n",
       "       250.        , 234.95728028, 219.97897579, 205.12922594,\n",
       "       190.47161963, 176.06892298, 161.98281056, 148.27360125,\n",
       "       135.        , 122.21884641, 109.98487133,  98.35046253,\n",
       "        87.36544033,  77.07684428,  67.52873173,  58.76198917,\n",
       "        50.81415713,  43.71926945,  37.50770752,  32.20607022,\n",
       "        27.83705995,  24.41938551,  21.96768188,  20.49244766,\n",
       "        20.        ,  20.49244766,  21.96768188,  24.41938551,\n",
       "        27.83705995,  32.20607022,  37.50770752,  43.71926945,\n",
       "        50.81415713,  58.76198917,  67.52873173,  77.07684428,\n",
       "        87.36544033,  98.35046253, 109.98487133, 122.21884641,\n",
       "       135.        , 148.27360125, 161.98281056, 176.06892298,\n",
       "       190.47161963, 205.12922594, 219.97897579, 234.95728028,\n",
       "       250.        ])"
      ]
     },
     "execution_count": 19,
     "metadata": {},
     "output_type": "execute_result"
    }
   ],
   "source": [
    "sinus_dalga"
   ]
  }
 ],
 "metadata": {
  "kernelspec": {
   "display_name": "rl_lib",
   "language": "python",
   "name": "python3"
  },
  "language_info": {
   "codemirror_mode": {
    "name": "ipython",
    "version": 3
   },
   "file_extension": ".py",
   "mimetype": "text/x-python",
   "name": "python",
   "nbconvert_exporter": "python",
   "pygments_lexer": "ipython3",
   "version": "3.9.16"
  }
 },
 "nbformat": 4,
 "nbformat_minor": 2
}
